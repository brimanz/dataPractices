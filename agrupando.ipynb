{
 "cells": [
  {
   "cell_type": "code",
   "execution_count": 4,
   "id": "245005dd-5e4f-479f-88ec-1c04a3d1abd2",
   "metadata": {
    "scrolled": true
   },
   "outputs": [
    {
     "name": "stderr",
     "output_type": "stream",
     "text": [
      "/tmp/ipykernel_14205/556716064.py:2: DtypeWarning: Columns (3) have mixed types. Specify dtype option on import or set low_memory=False.\n",
      "  df = pd.read_csv(\"/home/jdata/Escritorio/projects/dataAnalyst/dataPractices/VehicleCrashes.csv\")\n"
     ]
    }
   ],
   "source": [
    "import pandas as pd\n",
    "df = pd.read_csv(\"/home/jdata/Escritorio/projects/dataAnalyst/dataPractices/VehicleCrashes.csv\")"
   ]
  },
  {
   "cell_type": "raw",
   "id": "34020e44-57d1-4917-9114-2039959114c0",
   "metadata": {},
   "source": [
    "df.groupby(by = \"NUMBER OF PERSON INJURED\")[\"NUMBER OF PERSON INJURED\"].max()"
   ]
  }
 ],
 "metadata": {
  "kernelspec": {
   "display_name": "Python 3 (ipykernel)",
   "language": "python",
   "name": "python3"
  },
  "language_info": {
   "codemirror_mode": {
    "name": "ipython",
    "version": 3
   },
   "file_extension": ".py",
   "mimetype": "text/x-python",
   "name": "python",
   "nbconvert_exporter": "python",
   "pygments_lexer": "ipython3",
   "version": "3.13.0"
  }
 },
 "nbformat": 4,
 "nbformat_minor": 5
}
