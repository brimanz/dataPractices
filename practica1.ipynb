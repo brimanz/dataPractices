{
 "cells": [
  {
   "cell_type": "code",
   "execution_count": 1,
   "id": "b2292fe8-68b2-4efa-85b6-42db983e0c1b",
   "metadata": {},
   "outputs": [
    {
     "name": "stdout",
     "output_type": "stream",
     "text": [
      "0.5009088516235352\n"
     ]
    }
   ],
   "source": [
    "import time\n",
    "\n",
    "start = time.time()\n",
    "\n",
    "#nuestro codigo\n",
    "time.sleep(0.5)\n",
    "\n",
    "end = time.time()\n",
    "\n",
    "print(end - start)"
   ]
  },
  {
   "cell_type": "code",
   "execution_count": 2,
   "id": "4fa1c545-5a50-44e6-b23a-a75bf190b565",
   "metadata": {},
   "outputs": [
    {
     "name": "stdout",
     "output_type": "stream",
     "text": [
      "0:00:01.001626\n"
     ]
    }
   ],
   "source": [
    "from datetime import timedelta\n",
    "\n",
    "start = time.monotonic()\n",
    "\n",
    "#codigo \n",
    "\n",
    "time.sleep(1)\n",
    "\n",
    "end = time.monotonic()\n",
    "\n",
    "print(timedelta(seconds = end - start))\n"
   ]
  },
  {
   "cell_type": "code",
   "execution_count": 4,
   "id": "1d582937-86b1-4fc8-8d52-2841098a8e21",
   "metadata": {},
   "outputs": [
    {
     "name": "stdout",
     "output_type": "stream",
     "text": [
      "False\n"
     ]
    }
   ],
   "source": [
    "start = time.time()\n",
    "\n",
    "#codigo 1\n",
    "time.sleep(0.5)\n",
    "\n",
    "end = time.time()\n",
    "\n",
    "#valor 2 para comparar\n",
    "start2 = time.time()\n",
    "\n",
    "#codigo 2\n",
    "time.sleep(0.509)\n",
    "\n",
    "end2 = time.time()\n",
    "\n",
    "print(end - start > end2 - start2)"
   ]
  },
  {
   "cell_type": "code",
   "execution_count": null,
   "id": "e68c7810-a5c0-410e-8551-297c278a4290",
   "metadata": {},
   "outputs": [],
   "source": []
  }
 ],
 "metadata": {
  "kernelspec": {
   "display_name": "Python 3 (ipykernel)",
   "language": "python",
   "name": "python3"
  },
  "language_info": {
   "codemirror_mode": {
    "name": "ipython",
    "version": 3
   },
   "file_extension": ".py",
   "mimetype": "text/x-python",
   "name": "python",
   "nbconvert_exporter": "python",
   "pygments_lexer": "ipython3",
   "version": "3.13.0"
  }
 },
 "nbformat": 4,
 "nbformat_minor": 5
}
