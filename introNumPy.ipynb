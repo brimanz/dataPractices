{
 "cells": [
  {
   "cell_type": "code",
   "execution_count": 5,
   "id": "58be1c78-0656-437d-bdc4-7230e6e3dd83",
   "metadata": {},
   "outputs": [],
   "source": [
    "import numpy as np"
   ]
  },
  {
   "cell_type": "code",
   "execution_count": 6,
   "id": "745323cb-707c-4275-b22f-6c391043c637",
   "metadata": {},
   "outputs": [
    {
     "data": {
      "text/plain": [
       "array([[1, 2, 4, 5],\n",
       "       [6, 3, 7, 1],\n",
       "       [0, 9, 8, 7]])"
      ]
     },
     "execution_count": 6,
     "metadata": {},
     "output_type": "execute_result"
    }
   ],
   "source": [
    "#iniciando numpy\n",
    "valoraciones = np.array([[1,2,4,5], [6,3,7,1], [0,9,8,7]])\n",
    "valoraciones"
   ]
  },
  {
   "cell_type": "code",
   "execution_count": 9,
   "id": "bf35c711-179e-4337-a229-d87287ec31dc",
   "metadata": {},
   "outputs": [
    {
     "data": {
      "text/plain": [
       "np.int64(2)"
      ]
     },
     "execution_count": 9,
     "metadata": {},
     "output_type": "execute_result"
    }
   ],
   "source": [
    "#accediendo a la informacion del array 2 maneras.\n",
    "\n",
    "valoraciones[0][1]\n",
    "valoraciones[0,1]"
   ]
  },
  {
   "cell_type": "code",
   "execution_count": 26,
   "id": "7c2b3078-a0fc-41c6-bc5f-81705d4ebca0",
   "metadata": {},
   "outputs": [],
   "source": [
    "#creando un array con mas dimensiones\n",
    "\n",
    "valoraciones2 = np.ones((3,2,4))"
   ]
  },
  {
   "cell_type": "code",
   "execution_count": 27,
   "id": "7c6b8237-0927-4339-8810-0481c6916b39",
   "metadata": {},
   "outputs": [
    {
     "data": {
      "text/plain": [
       "array([[[1., 1., 1., 1.],\n",
       "        [1., 1., 1., 1.]],\n",
       "\n",
       "       [[1., 1., 1., 1.],\n",
       "        [1., 1., 1., 1.]],\n",
       "\n",
       "       [[1., 1., 1., 1.],\n",
       "        [1., 1., 1., 1.]]])"
      ]
     },
     "execution_count": 27,
     "metadata": {},
     "output_type": "execute_result"
    }
   ],
   "source": [
    "valoraciones2"
   ]
  },
  {
   "cell_type": "code",
   "execution_count": 19,
   "id": "579e2ffd-6c56-4fc2-b20a-7961288d2f33",
   "metadata": {},
   "outputs": [
    {
     "data": {
      "text/plain": [
       "np.int64(4)"
      ]
     },
     "execution_count": 19,
     "metadata": {},
     "output_type": "execute_result"
    }
   ],
   "source": [
    "valoraciones2[0,1,2]"
   ]
  },
  {
   "cell_type": "code",
   "execution_count": 20,
   "id": "28e3b76f-e33d-4b62-b76c-01cb1cf6d6be",
   "metadata": {},
   "outputs": [
    {
     "data": {
      "text/plain": [
       "array([[[0., 0., 0., 0.],\n",
       "        [0., 0., 0., 0.]],\n",
       "\n",
       "       [[0., 0., 0., 0.],\n",
       "        [0., 0., 0., 0.]],\n",
       "\n",
       "       [[0., 0., 0., 0.],\n",
       "        [0., 0., 0., 0.]]])"
      ]
     },
     "execution_count": 20,
     "metadata": {},
     "output_type": "execute_result"
    }
   ],
   "source": [
    "np.zeros([3,2,4])"
   ]
  },
  {
   "cell_type": "code",
   "execution_count": 29,
   "id": "5e50c6d4-a470-4a18-8e5d-9ad879c2d66c",
   "metadata": {},
   "outputs": [
    {
     "data": {
      "text/plain": [
       "array([[[2., 2., 2., 2.],\n",
       "        [2., 2., 2., 2.]],\n",
       "\n",
       "       [[2., 2., 2., 2.],\n",
       "        [2., 2., 2., 2.]],\n",
       "\n",
       "       [[2., 2., 2., 2.],\n",
       "        [2., 2., 2., 2.]]])"
      ]
     },
     "execution_count": 29,
     "metadata": {},
     "output_type": "execute_result"
    }
   ],
   "source": [
    "#sumando los valores de arrays\n",
    "valoraciones2 + np.ones((3,2,4))"
   ]
  },
  {
   "cell_type": "code",
   "execution_count": 30,
   "id": "5488d0d6-b313-4f21-b86c-2a82fa97143e",
   "metadata": {},
   "outputs": [
    {
     "data": {
      "text/plain": [
       "array([[[1., 1., 1., 1.],\n",
       "        [1., 1., 1., 1.]],\n",
       "\n",
       "       [[1., 1., 1., 1.],\n",
       "        [1., 1., 1., 1.]],\n",
       "\n",
       "       [[1., 1., 1., 1.],\n",
       "        [1., 1., 1., 1.]]])"
      ]
     },
     "execution_count": 30,
     "metadata": {},
     "output_type": "execute_result"
    }
   ],
   "source": [
    "valoraciones2"
   ]
  },
  {
   "cell_type": "code",
   "execution_count": 31,
   "id": "beac2158-d777-4783-a535-017bfe763e71",
   "metadata": {},
   "outputs": [
    {
     "data": {
      "text/plain": [
       "np.float64(1.0)"
      ]
     },
     "execution_count": 31,
     "metadata": {},
     "output_type": "execute_result"
    }
   ],
   "source": [
    "np.mean(valoraciones2)"
   ]
  },
  {
   "cell_type": "code",
   "execution_count": 35,
   "id": "6d6996c5-0a45-479b-8270-4aa9b8bb6c5d",
   "metadata": {},
   "outputs": [
    {
     "data": {
      "text/plain": [
       "array([[1., 1.],\n",
       "       [1., 1.],\n",
       "       [1., 1.]])"
      ]
     },
     "execution_count": 35,
     "metadata": {},
     "output_type": "execute_result"
    }
   ],
   "source": [
    "np.mean(valoraciones2, axis = 2)"
   ]
  },
  {
   "cell_type": "code",
   "execution_count": 36,
   "id": "549a9492-94e9-49c8-b930-d21ac3bb1d81",
   "metadata": {},
   "outputs": [
    {
     "data": {
      "text/plain": [
       "array([[[ 1,  2],\n",
       "        [ 3,  4]],\n",
       "\n",
       "       [[ 5,  6],\n",
       "        [ 7,  8]],\n",
       "\n",
       "       [[ 9, 10],\n",
       "        [11, 12]]])"
      ]
     },
     "execution_count": 36,
     "metadata": {},
     "output_type": "execute_result"
    }
   ],
   "source": [
    "#convirtiendo valores en dimisiones indicadas\n",
    "np.reshape([1,2,3,4,5,6,7,8,9,10,11,12], (3,2,2))"
   ]
  },
  {
   "cell_type": "code",
   "execution_count": null,
   "id": "b04baa63-a468-4629-88ad-b3e94a2342b8",
   "metadata": {},
   "outputs": [],
   "source": [
    "#ejecutando mediana en data frame cargado\n",
    "np.median(df[\"columna1\"])"
   ]
  },
  {
   "cell_type": "code",
   "execution_count": 37,
   "id": "58159944-1d8f-4513-a94f-c82a52ea349c",
   "metadata": {},
   "outputs": [
    {
     "data": {
      "text/plain": [
       "array([[0.94874849, 0.56227968],\n",
       "       [0.37390057, 0.00355997]])"
      ]
     },
     "execution_count": 37,
     "metadata": {},
     "output_type": "execute_result"
    }
   ],
   "source": [
    "#generando elementos aleatorios\n",
    "np.random.rand(2,2)"
   ]
  },
  {
   "cell_type": "code",
   "execution_count": null,
   "id": "0857ea10-f104-4f24-bc9e-43d9466aa93c",
   "metadata": {},
   "outputs": [],
   "source": []
  }
 ],
 "metadata": {
  "kernelspec": {
   "display_name": "Python 3 (ipykernel)",
   "language": "python",
   "name": "python3"
  },
  "language_info": {
   "codemirror_mode": {
    "name": "ipython",
    "version": 3
   },
   "file_extension": ".py",
   "mimetype": "text/x-python",
   "name": "python",
   "nbconvert_exporter": "python",
   "pygments_lexer": "ipython3",
   "version": "3.13.0"
  }
 },
 "nbformat": 4,
 "nbformat_minor": 5
}
