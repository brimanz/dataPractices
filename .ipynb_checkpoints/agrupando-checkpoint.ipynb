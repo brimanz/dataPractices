{
 "cells": [
  {
   "cell_type": "code",
   "execution_count": 3,
   "id": "245005dd-5e4f-479f-88ec-1c04a3d1abd2",
   "metadata": {
    "scrolled": true
   },
   "outputs": [
    {
     "data": {
      "text/html": [
       "<div>\n",
       "<style scoped>\n",
       "    .dataframe tbody tr th:only-of-type {\n",
       "        vertical-align: middle;\n",
       "    }\n",
       "\n",
       "    .dataframe tbody tr th {\n",
       "        vertical-align: top;\n",
       "    }\n",
       "\n",
       "    .dataframe thead th {\n",
       "        text-align: right;\n",
       "    }\n",
       "</style>\n",
       "<table border=\"1\" class=\"dataframe\">\n",
       "  <thead>\n",
       "    <tr style=\"text-align: right;\">\n",
       "      <th></th>\n",
       "      <th>codigo</th>\n",
       "      <th>fecha</th>\n",
       "      <th>descripcion</th>\n",
       "      <th>ubicación</th>\n",
       "      <th>estado</th>\n",
       "      <th>impacto</th>\n",
       "    </tr>\n",
       "  </thead>\n",
       "  <tbody>\n",
       "    <tr>\n",
       "      <th>0</th>\n",
       "      <td>c001</td>\n",
       "      <td>01/11/24</td>\n",
       "      <td>robo a mano armada</td>\n",
       "      <td>merida casco central</td>\n",
       "      <td>resuelto</td>\n",
       "      <td>alto</td>\n",
       "    </tr>\n",
       "    <tr>\n",
       "      <th>1</th>\n",
       "      <td>c002</td>\n",
       "      <td>02/11/24</td>\n",
       "      <td>hurto</td>\n",
       "      <td>merida casco central</td>\n",
       "      <td>resuelto</td>\n",
       "      <td>medio</td>\n",
       "    </tr>\n",
       "    <tr>\n",
       "      <th>2</th>\n",
       "      <td>c003</td>\n",
       "      <td>03/11/24</td>\n",
       "      <td>hurto</td>\n",
       "      <td>merida casco central</td>\n",
       "      <td>resuelto</td>\n",
       "      <td>medio</td>\n",
       "    </tr>\n",
       "    <tr>\n",
       "      <th>3</th>\n",
       "      <td>c004</td>\n",
       "      <td>04/11/24</td>\n",
       "      <td>hurto</td>\n",
       "      <td>merida casco central</td>\n",
       "      <td>resuelto</td>\n",
       "      <td>medio</td>\n",
       "    </tr>\n",
       "    <tr>\n",
       "      <th>4</th>\n",
       "      <td>c005</td>\n",
       "      <td>05/11/24</td>\n",
       "      <td>homicidio</td>\n",
       "      <td>los sausales</td>\n",
       "      <td>sin resolver</td>\n",
       "      <td>alto</td>\n",
       "    </tr>\n",
       "  </tbody>\n",
       "</table>\n",
       "</div>"
      ],
      "text/plain": [
       "  codigo     fecha         descripcion             ubicación        estado  \\\n",
       "0   c001  01/11/24  robo a mano armada  merida casco central      resuelto   \n",
       "1   c002  02/11/24               hurto  merida casco central      resuelto   \n",
       "2   c003  03/11/24               hurto  merida casco central      resuelto   \n",
       "3   c004  04/11/24               hurto  merida casco central      resuelto   \n",
       "4   c005  05/11/24          homicidio           los sausales  sin resolver   \n",
       "\n",
       "  impacto  \n",
       "0    alto  \n",
       "1   medio  \n",
       "2   medio  \n",
       "3   medio  \n",
       "4    alto  "
      ]
     },
     "execution_count": 3,
     "metadata": {},
     "output_type": "execute_result"
    }
   ],
   "source": [
    "import pandas as pd\n",
    "df = pd.read_csv(\"/home/jdata/Escritorio/projects/dataAnalyst/dataPractices/crimenMeridaNOV2024.csv\")\n",
    "df.head()"
   ]
  },
  {
   "cell_type": "code",
   "execution_count": 10,
   "id": "22e41e53-0b15-4399-918d-ab5a0eb29ecf",
   "metadata": {},
   "outputs": [
    {
     "data": {
      "text/plain": [
       "descripcion\n",
       "acceso a propiedad privada     8\n",
       "homicidio                      8\n",
       "hurto                          5\n",
       "robo a mano armada            13\n",
       "secuestro                      3\n",
       "Name: estado, dtype: int64"
      ]
     },
     "execution_count": 10,
     "metadata": {},
     "output_type": "execute_result"
    }
   ],
   "source": [
    "#contando los numeros de delitos descritos.\n",
    "df.groupby(by = \"descripcion\")[\"estado\"].count()"
   ]
  },
  {
   "cell_type": "code",
   "execution_count": 11,
   "id": "1f6c9197-c435-4c9e-b788-7d38cf2eea6d",
   "metadata": {},
   "outputs": [
    {
     "data": {
      "text/html": [
       "<div>\n",
       "<style scoped>\n",
       "    .dataframe tbody tr th:only-of-type {\n",
       "        vertical-align: middle;\n",
       "    }\n",
       "\n",
       "    .dataframe tbody tr th {\n",
       "        vertical-align: top;\n",
       "    }\n",
       "\n",
       "    .dataframe thead th {\n",
       "        text-align: right;\n",
       "    }\n",
       "</style>\n",
       "<table border=\"1\" class=\"dataframe\">\n",
       "  <thead>\n",
       "    <tr style=\"text-align: right;\">\n",
       "      <th></th>\n",
       "      <th>count</th>\n",
       "      <th>unique</th>\n",
       "      <th>top</th>\n",
       "      <th>freq</th>\n",
       "    </tr>\n",
       "    <tr>\n",
       "      <th>descripcion</th>\n",
       "      <th></th>\n",
       "      <th></th>\n",
       "      <th></th>\n",
       "      <th></th>\n",
       "    </tr>\n",
       "  </thead>\n",
       "  <tbody>\n",
       "    <tr>\n",
       "      <th>acceso a propiedad privada</th>\n",
       "      <td>8</td>\n",
       "      <td>1</td>\n",
       "      <td>resuelto</td>\n",
       "      <td>8</td>\n",
       "    </tr>\n",
       "    <tr>\n",
       "      <th>homicidio</th>\n",
       "      <td>8</td>\n",
       "      <td>2</td>\n",
       "      <td>sin resolver</td>\n",
       "      <td>7</td>\n",
       "    </tr>\n",
       "    <tr>\n",
       "      <th>hurto</th>\n",
       "      <td>5</td>\n",
       "      <td>1</td>\n",
       "      <td>resuelto</td>\n",
       "      <td>5</td>\n",
       "    </tr>\n",
       "    <tr>\n",
       "      <th>robo a mano armada</th>\n",
       "      <td>13</td>\n",
       "      <td>2</td>\n",
       "      <td>sin resolver</td>\n",
       "      <td>11</td>\n",
       "    </tr>\n",
       "    <tr>\n",
       "      <th>secuestro</th>\n",
       "      <td>3</td>\n",
       "      <td>1</td>\n",
       "      <td>sin resolver</td>\n",
       "      <td>3</td>\n",
       "    </tr>\n",
       "  </tbody>\n",
       "</table>\n",
       "</div>"
      ],
      "text/plain": [
       "                           count unique           top freq\n",
       "descripcion                                               \n",
       "acceso a propiedad privada     8      1      resuelto    8\n",
       "homicidio                      8      2  sin resolver    7\n",
       "hurto                          5      1      resuelto    5\n",
       "robo a mano armada            13      2  sin resolver   11\n",
       "secuestro                      3      1  sin resolver    3"
      ]
     },
     "execution_count": 11,
     "metadata": {},
     "output_type": "execute_result"
    }
   ],
   "source": [
    "#mostrando un resumen estadistico de los numeros de delitos descritos.\n",
    "df.groupby(by = \"descripcion\")[\"estado\"].describe()"
   ]
  },
  {
   "cell_type": "code",
   "execution_count": 17,
   "id": "9c503254-2628-4145-ab52-3c8b8da04c9f",
   "metadata": {},
   "outputs": [
    {
     "data": {
      "text/plain": [
       "descripcion\n",
       "acceso a propiedad privada            resueltoresuelto\n",
       "homicidio                       sin resolveren proceso\n",
       "hurto                                 resueltoresuelto\n",
       "robo a mano armada                sin resolverresuelto\n",
       "secuestro                     sin resolversin resolver\n",
       "Name: estado, dtype: object"
      ]
     },
     "execution_count": 17,
     "metadata": {},
     "output_type": "execute_result"
    }
   ],
   "source": [
    "#realizando operacion de concatenacion entre grupos organizados\n",
    "df.groupby(by = \"descripcion\")[\"estado\"].max() + df.groupby(by = \"descripcion\")[\"estado\"].min()"
   ]
  },
  {
   "cell_type": "code",
   "execution_count": null,
   "id": "8c8c6f62-7111-46ab-bd90-9df09af8196b",
   "metadata": {},
   "outputs": [],
   "source": []
  }
 ],
 "metadata": {
  "kernelspec": {
   "display_name": "Python 3 (ipykernel)",
   "language": "python",
   "name": "python3"
  },
  "language_info": {
   "codemirror_mode": {
    "name": "ipython",
    "version": 3
   },
   "file_extension": ".py",
   "mimetype": "text/x-python",
   "name": "python",
   "nbconvert_exporter": "python",
   "pygments_lexer": "ipython3",
   "version": "3.13.0"
  }
 },
 "nbformat": 4,
 "nbformat_minor": 5
}
